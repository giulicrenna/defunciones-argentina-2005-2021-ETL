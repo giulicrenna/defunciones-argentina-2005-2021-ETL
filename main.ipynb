{
 "cells": [
  {
   "cell_type": "code",
   "execution_count": 51,
   "metadata": {},
   "outputs": [],
   "source": [
    "import pandas as pd\n",
    "import seaborn as sns\n",
    "import re\n",
    "from tqdm import tqdm\n",
    "from geopy.geocoders import Nominatim"
   ]
  },
  {
   "attachments": {},
   "cell_type": "markdown",
   "metadata": {},
   "source": [
    "**DATOS**: http://datos.salud.gob.ar/dataset/defunciones-ocurridas-y-registradas-en-la-republica-argentina-en-el-ano-2017"
   ]
  },
  {
   "cell_type": "code",
   "execution_count": 52,
   "metadata": {},
   "outputs": [
    {
     "name": "stderr",
     "output_type": "stream",
     "text": [
      "/tmp/ipykernel_490/1327773562.py:1: DtypeWarning: Columns (6) have mixed types. Specify dtype option on import or set low_memory=False.\n",
      "  datos : pd.DataFrame = pd.read_csv('defunciones.csv', encoding='ISO-8859-1')\n"
     ]
    }
   ],
   "source": [
    "datos : pd.DataFrame = pd.read_csv('defunciones.csv', encoding='ISO-8859-1')"
   ]
  },
  {
   "cell_type": "code",
   "execution_count": 53,
   "metadata": {},
   "outputs": [
    {
     "data": {
      "text/html": [
       "<div>\n",
       "<style scoped>\n",
       "    .dataframe tbody tr th:only-of-type {\n",
       "        vertical-align: middle;\n",
       "    }\n",
       "\n",
       "    .dataframe tbody tr th {\n",
       "        vertical-align: top;\n",
       "    }\n",
       "\n",
       "    .dataframe thead th {\n",
       "        text-align: right;\n",
       "    }\n",
       "</style>\n",
       "<table border=\"1\" class=\"dataframe\">\n",
       "  <thead>\n",
       "    <tr style=\"text-align: right;\">\n",
       "      <th></th>\n",
       "      <th>anio</th>\n",
       "      <th>jurisdiccion_de_residencia_id</th>\n",
       "      <th>jurisdicion_residencia_nombre</th>\n",
       "      <th>clasificacion</th>\n",
       "      <th>Sexo</th>\n",
       "      <th>muerte_materna_id</th>\n",
       "      <th>muerte_materna_clasificacion</th>\n",
       "      <th>grupo_edad</th>\n",
       "      <th>cantidad</th>\n",
       "    </tr>\n",
       "  </thead>\n",
       "  <tbody>\n",
       "    <tr>\n",
       "      <th>0</th>\n",
       "      <td>2014</td>\n",
       "      <td>34</td>\n",
       "      <td>Formosa</td>\n",
       "      <td>Dificultad respiratoria del recién nacido</td>\n",
       "      <td>masculino</td>\n",
       "      <td>NaN</td>\n",
       "      <td>NaN</td>\n",
       "      <td>De a 0  a 14 anios</td>\n",
       "      <td>22</td>\n",
       "    </tr>\n",
       "    <tr>\n",
       "      <th>1</th>\n",
       "      <td>2007</td>\n",
       "      <td>22</td>\n",
       "      <td>Chaco</td>\n",
       "      <td>Otras gastroenteritis y colitis de origen infe...</td>\n",
       "      <td>masculino</td>\n",
       "      <td>NaN</td>\n",
       "      <td>NaN</td>\n",
       "      <td>01.De a 0  a 14 anios</td>\n",
       "      <td>1</td>\n",
       "    </tr>\n",
       "    <tr>\n",
       "      <th>2</th>\n",
       "      <td>2008</td>\n",
       "      <td>82</td>\n",
       "      <td>Santa Fe</td>\n",
       "      <td>Neumonía viral, no clasificada en otra parte</td>\n",
       "      <td>masculino</td>\n",
       "      <td>NaN</td>\n",
       "      <td>NaN</td>\n",
       "      <td>01.De a 0  a 14 anios</td>\n",
       "      <td>1</td>\n",
       "    </tr>\n",
       "    <tr>\n",
       "      <th>3</th>\n",
       "      <td>2016</td>\n",
       "      <td>94</td>\n",
       "      <td>Tierra del Fuego, Antártida e Islas del Atlánt...</td>\n",
       "      <td>Neumonía, organismo no especificado</td>\n",
       "      <td>masculino</td>\n",
       "      <td>NaN</td>\n",
       "      <td>NaN</td>\n",
       "      <td>01.De a 0  a 14 anios</td>\n",
       "      <td>1</td>\n",
       "    </tr>\n",
       "    <tr>\n",
       "      <th>4</th>\n",
       "      <td>2012</td>\n",
       "      <td>90</td>\n",
       "      <td>Tucumán</td>\n",
       "      <td>Otras alteraciones cerebrales del recién nacido</td>\n",
       "      <td>masculino</td>\n",
       "      <td>NaN</td>\n",
       "      <td>NaN</td>\n",
       "      <td>01.De a 0  a 14 anios</td>\n",
       "      <td>1</td>\n",
       "    </tr>\n",
       "  </tbody>\n",
       "</table>\n",
       "</div>"
      ],
      "text/plain": [
       "   anio  jurisdiccion_de_residencia_id  \\\n",
       "0  2014                             34   \n",
       "1  2007                             22   \n",
       "2  2008                             82   \n",
       "3  2016                             94   \n",
       "4  2012                             90   \n",
       "\n",
       "                       jurisdicion_residencia_nombre  \\\n",
       "0                                            Formosa   \n",
       "1                                              Chaco   \n",
       "2                                           Santa Fe   \n",
       "3  Tierra del Fuego, Antártida e Islas del Atlánt...   \n",
       "4                                            Tucumán   \n",
       "\n",
       "                                       clasificacion       Sexo  \\\n",
       "0          Dificultad respiratoria del recién nacido  masculino   \n",
       "1  Otras gastroenteritis y colitis de origen infe...  masculino   \n",
       "2       Neumonía viral, no clasificada en otra parte  masculino   \n",
       "3                Neumonía, organismo no especificado  masculino   \n",
       "4    Otras alteraciones cerebrales del recién nacido  masculino   \n",
       "\n",
       "  muerte_materna_id muerte_materna_clasificacion             grupo_edad  \\\n",
       "0               NaN                          NaN     De a 0  a 14 anios   \n",
       "1               NaN                          NaN  01.De a 0  a 14 anios   \n",
       "2               NaN                          NaN  01.De a 0  a 14 anios   \n",
       "3               NaN                          NaN  01.De a 0  a 14 anios   \n",
       "4               NaN                          NaN  01.De a 0  a 14 anios   \n",
       "\n",
       "   cantidad  \n",
       "0        22  \n",
       "1         1  \n",
       "2         1  \n",
       "3         1  \n",
       "4         1  "
      ]
     },
     "execution_count": 53,
     "metadata": {},
     "output_type": "execute_result"
    }
   ],
   "source": [
    "datos.head()"
   ]
  },
  {
   "cell_type": "code",
   "execution_count": 54,
   "metadata": {},
   "outputs": [],
   "source": [
    "pattern : str = \"(\\d{1,}\\s{1,}a\\s{1,}\\d{1,})\"\n",
    "def parse(exp: str) -> str:\n",
    "    try:\n",
    "        if exp == \"05.De 75 anios y mas\":\n",
    "            return \"75 a mas\"\n",
    "        match: str = re.findall(pattern=pattern, string=exp)[0]\n",
    "        return match\n",
    "    except:\n",
    "        return \"ND\""
   ]
  },
  {
   "cell_type": "code",
   "execution_count": 55,
   "metadata": {},
   "outputs": [],
   "source": [
    "datos['grupo_edad'] = datos['grupo_edad'].apply(lambda x: parse(x))"
   ]
  },
  {
   "cell_type": "code",
   "execution_count": 56,
   "metadata": {},
   "outputs": [
    {
     "data": {
      "text/plain": [
       "778353"
      ]
     },
     "execution_count": 56,
     "metadata": {},
     "output_type": "execute_result"
    }
   ],
   "source": [
    "len(datos)"
   ]
  },
  {
   "cell_type": "code",
   "execution_count": 57,
   "metadata": {},
   "outputs": [],
   "source": [
    "datos = datos[datos['grupo_edad'] != 'ND']\n",
    "datos = datos[~datos['Sexo'].isin(['indeterminado', 'desconocido'])]"
   ]
  },
  {
   "cell_type": "code",
   "execution_count": 58,
   "metadata": {},
   "outputs": [
    {
     "data": {
      "text/plain": [
       "array(['0  a 14', '15 a 34', '35 a 54', '55 a 74', '75 a mas'],\n",
       "      dtype=object)"
      ]
     },
     "execution_count": 58,
     "metadata": {},
     "output_type": "execute_result"
    }
   ],
   "source": [
    "datos['grupo_edad'].unique()"
   ]
  },
  {
   "cell_type": "code",
   "execution_count": 59,
   "metadata": {},
   "outputs": [
    {
     "data": {
      "text/plain": [
       "array(['masculino', 'femenino'], dtype=object)"
      ]
     },
     "execution_count": 59,
     "metadata": {},
     "output_type": "execute_result"
    }
   ],
   "source": [
    "datos['Sexo'].unique()"
   ]
  },
  {
   "cell_type": "code",
   "execution_count": 60,
   "metadata": {},
   "outputs": [],
   "source": [
    "def clasificacion_parse(exp: str) -> str:\n",
    "    exp = str(exp)\n",
    "    \n",
    "    enf : list = ['Meningitis bacteriana',\n",
    "                  'Neumonía',\n",
    "                  'Dificultad respiratoria',\n",
    "                  'Fibrosis quística',\n",
    "                  'Neumonitis',\n",
    "                  'Parálisis cerebral',\n",
    "                  'osteocondrodisplasias',\n",
    "                  'Hemorragia intracraneal',\n",
    "                  'Envenenamiento',\n",
    "                  'INSUFICIENCIA HEPÁTICA',\n",
    "                  'MALFORMACIONES CONGÉNITAS',\n",
    "                  'vih',\n",
    "                  'tumor maligno',\n",
    "                  'Caída',\n",
    "                  'tumor',\n",
    "                  'Lesión autoinfligida',\n",
    "                  'hemorragia',\n",
    "                  'Envenenamiento autoinfligido',\n",
    "                  'disparo',\n",
    "                  'Alopecia',\n",
    "                  'leuciemia',\n",
    "                  'insuficiencia respiratoria',\n",
    "                  'transtornos respiratorios',\n",
    "                  'caída',\n",
    "                  'negligencia']\n",
    "    \n",
    "    viales : list = ['Ciclista',\n",
    "                     'vehículo',\n",
    "                     'motociclista',\n",
    "                     'colisión']\n",
    "    \n",
    "    for i in enf:\n",
    "        i = i.upper()\n",
    "        exp = exp.upper()\n",
    "        \n",
    "        if i in exp:\n",
    "            return str(i).capitalize()\n",
    "        \n",
    "    for i in viales:\n",
    "        i = i.upper()\n",
    "        exp = exp.upper()\n",
    "        \n",
    "        if i in exp:\n",
    "            return 'Siniestro vial'\n",
    "\n",
    "    else:\n",
    "        return exp.capitalize()"
   ]
  },
  {
   "cell_type": "code",
   "execution_count": 61,
   "metadata": {},
   "outputs": [],
   "source": [
    "datos['clasificacion'] = datos['clasificacion'].apply(lambda x: clasificacion_parse(x))"
   ]
  },
  {
   "cell_type": "code",
   "execution_count": null,
   "metadata": {},
   "outputs": [
    {
     "name": "stdout",
     "output_type": "stream",
     "text": [
      "1153\n"
     ]
    }
   ],
   "source": [
    "print(len(datos['clasificacion'].unique()))"
   ]
  },
  {
   "cell_type": "code",
   "execution_count": null,
   "metadata": {},
   "outputs": [
    {
     "data": {
      "text/plain": [
       "765642"
      ]
     },
     "execution_count": 17,
     "metadata": {},
     "output_type": "execute_result"
    }
   ],
   "source": [
    "len(datos)"
   ]
  },
  {
   "cell_type": "code",
   "execution_count": 66,
   "metadata": {},
   "outputs": [
    {
     "data": {
      "text/plain": [
       "<Axes: xlabel='count'>"
      ]
     },
     "execution_count": 66,
     "metadata": {},
     "output_type": "execute_result"
    },
    {
     "data": {
      "image/png": "[encoded data removed]",
      "text/plain": [
       "<Figure size 640x480 with 1 Axes>"
      ]
     },
     "metadata": {},
     "output_type": "display_data"
    }
   ],
   "source": [
    "enfermedades_mas_comunes = datos['clasificacion'].value_counts().head(50)\n",
    "\n",
    "sns.barplot(enfermedades_mas_comunes, x=enfermedades_mas_comunes.index, y=enfermedades_mas_comunes.values)"
   ]
  },
  {
   "cell_type": "code",
   "execution_count": null,
   "metadata": {},
   "outputs": [
    {
     "data": {
      "text/plain": [
       "<seaborn.axisgrid.FacetGrid at 0x7f6db2f5fee0>"
      ]
     },
     "execution_count": 140,
     "metadata": {},
     "output_type": "execute_result"
    },
    {
     "data": {
      "image/png": "[encoded data removed]",
      "text/plain": [
       "<Figure size 500x500 with 1 Axes>"
      ]
     },
     "metadata": {},
     "output_type": "display_data"
    }
   ],
   "source": [
    "sns.displot(datos['grupo_edad'])"
   ]
  },
  {
   "cell_type": "code",
   "execution_count": 67,
   "metadata": {},
   "outputs": [],
   "source": [
    "enfermedades_mas_comunes = enfermedades_mas_comunes.index.tolist()\n",
    "datos = datos[datos['clasificacion'].isin(enfermedades_mas_comunes)]"
   ]
  },
  {
   "cell_type": "code",
   "execution_count": null,
   "metadata": {},
   "outputs": [
    {
     "data": {
      "text/plain": [
       "469737"
      ]
     },
     "execution_count": 20,
     "metadata": {},
     "output_type": "execute_result"
    }
   ],
   "source": [
    "len(datos)"
   ]
  },
  {
   "cell_type": "code",
   "execution_count": 68,
   "metadata": {},
   "outputs": [],
   "source": [
    "datos['jurisdicion_residencia_nombre'] = datos['jurisdicion_residencia_nombre'].apply(lambda x: f'{x}, Argentina')"
   ]
  },
  {
   "cell_type": "code",
   "execution_count": 71,
   "metadata": {},
   "outputs": [],
   "source": [
    "datos = datos[datos['jurisdicion_residencia_nombre'] != 'Sin Información, Argentina']"
   ]
  },
  {
   "cell_type": "code",
   "execution_count": 72,
   "metadata": {},
   "outputs": [
    {
     "name": "stderr",
     "output_type": "stream",
     "text": [
      "100%|██████████| 25/25 [00:27<00:00,  1.08s/it]\n"
     ]
    }
   ],
   "source": [
    "geo_info : dict = {}\n",
    "\n",
    "geolocator = Nominatim(user_agent=\"MyApp\")\n",
    "\n",
    "datos = datos[datos['jurisdicion_residencia_nombre'] != 'Sin Información']\n",
    "\n",
    "with tqdm(total=len(datos['jurisdicion_residencia_nombre'].unique())) as pbar:\n",
    "    for i in datos['jurisdicion_residencia_nombre'].unique().tolist():\n",
    "        if i == 'Tierra del Fuego, Antártida e Islas del Atlántico Sur':\n",
    "            i = 'Tierra del Fuego' \n",
    "\n",
    "        location = geolocator.geocode(i)\n",
    "        \n",
    "        if i == 'Tierra del Fuego':\n",
    "            i = 'Tierra del Fuego, Antártida e Islas del Atlántico Sur' \n",
    "        \n",
    "        geo_info[i] = [location.latitude, location.longitude]\n",
    "        \n",
    "        pbar.update()"
   ]
  },
  {
   "cell_type": "code",
   "execution_count": 73,
   "metadata": {},
   "outputs": [
    {
     "name": "stderr",
     "output_type": "stream",
     "text": [
      "  4%|▍         | 18275/464499 [00:00<00:02, 182745.38it/s]"
     ]
    },
    {
     "name": "stderr",
     "output_type": "stream",
     "text": [
      "100%|██████████| 464499/464499 [00:03<00:00, 146000.42it/s]\n"
     ]
    }
   ],
   "source": [
    "latitudes: list = []\n",
    "longitudes: list = []\n",
    "\n",
    "with tqdm(total=len(datos['jurisdicion_residencia_nombre'].to_list())) as pbar:\n",
    "    for i in datos['jurisdicion_residencia_nombre'].to_list():\n",
    "        latitudes.append(geo_info[i][0])\n",
    "        longitudes.append(geo_info[i][1])\n",
    "        pbar.update()"
   ]
  },
  {
   "cell_type": "code",
   "execution_count": 75,
   "metadata": {},
   "outputs": [],
   "source": [
    "datos['latitud'] = latitudes\n",
    "datos['longitud'] = longitudes"
   ]
  },
  {
   "cell_type": "code",
   "execution_count": 81,
   "metadata": {},
   "outputs": [
    {
     "data": {
      "text/plain": [
       "jurisdicion_residencia_nombre\n",
       "Buenos Aires, Argentina                                             59089\n",
       "Santa Fe, Argentina                                                 38136\n",
       "Córdoba, Argentina                                                  33836\n",
       "Ciudad Autónoma de Buenos Aires, Argentina                          31386\n",
       "Mendoza, Argentina                                                  26439\n",
       "Entre Ríos, Argentina                                               22064\n",
       "Chaco, Argentina                                                    20827\n",
       "Tucumán, Argentina                                                  20613\n",
       "Salta, Argentina                                                    19762\n",
       "Corrientes, Argentina                                               18917\n",
       "San Juan, Argentina                                                 16307\n",
       "Santiago del Estero, Argentina                                      15815\n",
       "Misiones, Argentina                                                 15585\n",
       "Río Negro, Argentina                                                14860\n",
       "Formosa, Argentina                                                  14173\n",
       "Jujuy, Argentina                                                    14059\n",
       "Neuquén, Argentina                                                  13740\n",
       "Chubut, Argentina                                                   12139\n",
       "San Luis, Argentina                                                 11978\n",
       "Catamarca, Argentina                                                 9736\n",
       "La Pampa, Argentina                                                  9491\n",
       "La Rioja, Argentina                                                  8922\n",
       "Santa Cruz, Argentina                                                8829\n",
       "Tierra del Fuego, Antártida e Islas del Atlántico Sur, Argentina     4409\n",
       "nan, Argentina                                                       3387\n",
       "Name: count, dtype: int64"
      ]
     },
     "execution_count": 81,
     "metadata": {},
     "output_type": "execute_result"
    }
   ],
   "source": [
    "counts = datos['jurisdicion_residencia_nombre'].value_counts()"
   ]
  },
  {
   "cell_type": "code",
   "execution_count": 82,
   "metadata": {},
   "outputs": [],
   "source": [
    "datos.to_csv('defunciones_argentina.csv')"
   ]
  }
 ],
 "metadata": {
  "kernelspec": {
   "display_name": "Python 3",
   "language": "python",
   "name": "python3"
  },
  "language_info": {
   "codemirror_mode": {
    "name": "ipython",
    "version": 3
   },
   "file_extension": ".py",
   "mimetype": "text/x-python",
   "name": "python",
   "nbconvert_exporter": "python",
   "pygments_lexer": "ipython3",
   "version": "3.10.11"
  },
  "orig_nbformat": 4
 },
 "nbformat": 4,
 "nbformat_minor": 2
}
